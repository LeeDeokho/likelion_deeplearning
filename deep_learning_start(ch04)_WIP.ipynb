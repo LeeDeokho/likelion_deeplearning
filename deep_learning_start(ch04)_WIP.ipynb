{
 "cells": [
  {
   "cell_type": "markdown",
   "metadata": {},
   "source": [
    "## 딥러닝 시작하기"
   ]
  },
  {
   "cell_type": "markdown",
   "metadata": {},
   "source": [
    "### chap 4. 신경망 학습"
   ]
  },
  {
   "cell_type": "markdown",
   "metadata": {},
   "source": [
    "신경망으로 어떻게 데이터를 학습시킬까를 공부해 볼 수 있는 차례가 왔습니다. 신경망에서 학습이란 cost 함수를 줄여주는 weight값을 찾아가는 과정입니다.\n",
    "\n",
    "여기서 cost 함수 개념이 도입됩니다. 어떻게 weight값들을 줄어 나갈 수 있을까요~?"
   ]
  },
  {
   "cell_type": "markdown",
   "metadata": {},
   "source": [
    "### 4.1 데이터에서 학습한다."
   ]
  },
  {
   "cell_type": "markdown",
   "metadata": {},
   "source": [
    "- 신경망을 representation learning이라고도 부른다. 이유는 데이터를 보고 학습할 수 있기 때문.\n",
    "- 신경망이 데이터를 보고 weight값을 조정해서 cost 함수를 줄여나간다. \n",
    "\n",
    "- 신경망이 깊어질수록 weight값들을 증가한다. 당연히 뉴런과 뉴런을 이어주는 시냅스가 증가하기 때문! "
   ]
  },
  {
   "cell_type": "markdown",
   "metadata": {},
   "source": [
    "### 4.4.1 데이터 주도학습"
   ]
  },
  {
   "cell_type": "markdown",
   "metadata": {},
   "source": [
    "- 기계학습은 데이터에서 패턴을 찾고 데이터로 이야기 하는 것\n",
    "- 신경망과 딥러닝은 기존 머신러닝에서 사용하던 방법보다 사람의 개입을 더욱 배제하길 원하는(?) 특징을 가지고 있다. \n",
    " "
   ]
  },
  {
   "cell_type": "markdown",
   "metadata": {},
   "source": [
    "- (내의견) 기존 머신러닝은 feature engineer이 정말 중요한 요소였다. 데이터 전처리 작업이라고 부르는데 이 작업이 머신러닝 작업에서 70~80%를 차지할 정도로 비중이 큰 작업이었다. 실제 알고리즘을 돌려보는 작업은 전체작업의 20%정도밖에 안될 정도로 tidy하고 clean한 데이터를 기계학습 알고리즘에 넣어주는 것이 중요했다. 물론 이 방법이 아직도 유효하고 머신러닝에 정말 중요한 이슈이다. 하지만 딥러닝은 end-to-end learning이라고 부른다. 데이터를 넣어주고 feature를 추출해주는 작업까지 해주는 것이다. 하지만 딥러닝에 넣어주는 데이터도 tidy하고 clean할 수록 성능이 높아지는건 예외가 아닐 것이다"
   ]
  },
  {
   "cell_type": "markdown",
   "metadata": {},
   "source": [
    "- 5를 인식하는 알고리즘을 예제로 들겠다. \n",
    "- 사람이 보기에는 5라는 숫자를 인식하는데 어려움이 없지만 기계는 어떤 알고리즘으로 5를 인식시키게 할지 방법이 필요하다.\n",
    "- 한가지 방법으로 이미지에서 feature를 추출한다.\n",
    "- 이미지의 특징은 보통 벡터로 표현한다.\n",
    "- 영상처리 분야에서 feature engineering기법으로 SIFT, SURF, HOG등의 방법이 쓰인다.\n",
    "- 이러한 기법으로 feature를 추출하고 SVM, KNN등으로 학습시킨다."
   ]
  },
  {
   "cell_type": "markdown",
   "metadata": {},
   "source": [
    "- 이미지를 벡터로 변환하는 작업은 역시 '사람'이 하는 작업이다.\n",
    "- 좋은 feature를 추출하지 못하면 좋은 성능을 내지 못한다.\n",
    "- 딥러닝 이전까지 기계학습은 이러한 feature 추출이 주된 일이었다."
   ]
  },
  {
   "cell_type": "markdown",
   "metadata": {},
   "source": [
    "### 4.1.2 훈련 데이터와 시험 데이터"
   ]
  }
 ],
 "metadata": {
  "kernelspec": {
   "display_name": "Python 3",
   "language": "python",
   "name": "python3"
  },
  "language_info": {
   "codemirror_mode": {
    "name": "ipython",
    "version": 3
   },
   "file_extension": ".py",
   "mimetype": "text/x-python",
   "name": "python",
   "nbconvert_exporter": "python",
   "pygments_lexer": "ipython3",
   "version": "3.6.1"
  }
 },
 "nbformat": 4,
 "nbformat_minor": 2
}
